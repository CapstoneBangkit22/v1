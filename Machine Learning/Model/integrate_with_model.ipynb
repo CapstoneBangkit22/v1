{
  "cells": [
    {
      "cell_type": "markdown",
      "metadata": {
        "id": "8nqd23h54TFE"
      },
      "source": [
        "### **Integrating Text Recognition with the Model**"
      ]
    },
    {
      "cell_type": "markdown",
      "source": [
        " # **Detecting Text in Image**"
      ],
      "metadata": {
        "id": "AYL8depb-CLR"
      }
    },
    {
      "cell_type": "markdown",
      "source": [
        "Installing Libraries"
      ],
      "metadata": {
        "id": "S1qxtG01-VJW"
      }
    },
    {
      "cell_type": "code",
      "source": [
        "!pip install -q keras-ocr\n",
        "!sudo apt install tesseract-ocr\n",
        "!pip install pytesseract"
      ],
      "metadata": {
        "colab": {
          "base_uri": "https://localhost:8080/"
        },
        "id": "JIUlxUrJ4WWM",
        "outputId": "7b66c3b7-4eec-4c7c-d5da-8757af349488"
      },
      "execution_count": 3,
      "outputs": [
        {
          "output_type": "stream",
          "name": "stdout",
          "text": [
            "\u001b[K     |████████████████████████████████| 42 kB 539 kB/s \n",
            "\u001b[K     |████████████████████████████████| 930 kB 9.7 MB/s \n",
            "\u001b[K     |████████████████████████████████| 603 kB 49.1 MB/s \n",
            "\u001b[K     |████████████████████████████████| 9.5 MB 50.1 MB/s \n",
            "\u001b[K     |████████████████████████████████| 50 kB 5.3 MB/s \n",
            "\u001b[?25h  Building wheel for validators (setup.py) ... \u001b[?25l\u001b[?25hdone\n",
            "Reading package lists... Done\n",
            "Building dependency tree       \n",
            "Reading state information... Done\n",
            "The following package was automatically installed and is no longer required:\n",
            "  libnvidia-common-460\n",
            "Use 'sudo apt autoremove' to remove it.\n",
            "The following additional packages will be installed:\n",
            "  tesseract-ocr-eng tesseract-ocr-osd\n",
            "The following NEW packages will be installed:\n",
            "  tesseract-ocr tesseract-ocr-eng tesseract-ocr-osd\n",
            "0 upgraded, 3 newly installed, 0 to remove and 45 not upgraded.\n",
            "Need to get 4,795 kB of archives.\n",
            "After this operation, 15.8 MB of additional disk space will be used.\n",
            "Get:1 http://archive.ubuntu.com/ubuntu bionic/universe amd64 tesseract-ocr-eng all 4.00~git24-0e00fe6-1.2 [1,588 kB]\n",
            "Get:2 http://archive.ubuntu.com/ubuntu bionic/universe amd64 tesseract-ocr-osd all 4.00~git24-0e00fe6-1.2 [2,989 kB]\n",
            "Get:3 http://archive.ubuntu.com/ubuntu bionic/universe amd64 tesseract-ocr amd64 4.00~git2288-10f4998a-2 [218 kB]\n",
            "Fetched 4,795 kB in 1s (3,687 kB/s)\n",
            "debconf: unable to initialize frontend: Dialog\n",
            "debconf: (No usable dialog-like program is installed, so the dialog based frontend cannot be used. at /usr/share/perl5/Debconf/FrontEnd/Dialog.pm line 76, <> line 3.)\n",
            "debconf: falling back to frontend: Readline\n",
            "debconf: unable to initialize frontend: Readline\n",
            "debconf: (This frontend requires a controlling tty.)\n",
            "debconf: falling back to frontend: Teletype\n",
            "dpkg-preconfigure: unable to re-open stdin: \n",
            "Selecting previously unselected package tesseract-ocr-eng.\n",
            "(Reading database ... 155632 files and directories currently installed.)\n",
            "Preparing to unpack .../tesseract-ocr-eng_4.00~git24-0e00fe6-1.2_all.deb ...\n",
            "Unpacking tesseract-ocr-eng (4.00~git24-0e00fe6-1.2) ...\n",
            "Selecting previously unselected package tesseract-ocr-osd.\n",
            "Preparing to unpack .../tesseract-ocr-osd_4.00~git24-0e00fe6-1.2_all.deb ...\n",
            "Unpacking tesseract-ocr-osd (4.00~git24-0e00fe6-1.2) ...\n",
            "Selecting previously unselected package tesseract-ocr.\n",
            "Preparing to unpack .../tesseract-ocr_4.00~git2288-10f4998a-2_amd64.deb ...\n",
            "Unpacking tesseract-ocr (4.00~git2288-10f4998a-2) ...\n",
            "Setting up tesseract-ocr-osd (4.00~git24-0e00fe6-1.2) ...\n",
            "Setting up tesseract-ocr-eng (4.00~git24-0e00fe6-1.2) ...\n",
            "Setting up tesseract-ocr (4.00~git2288-10f4998a-2) ...\n",
            "Processing triggers for man-db (2.8.3-2ubuntu0.1) ...\n",
            "Looking in indexes: https://pypi.org/simple, https://us-python.pkg.dev/colab-wheels/public/simple/\n",
            "Requirement already satisfied: pytesseract in /usr/local/lib/python3.7/dist-packages (0.3.9)\n",
            "Requirement already satisfied: packaging>=21.3 in /usr/local/lib/python3.7/dist-packages (from pytesseract) (21.3)\n",
            "Requirement already satisfied: Pillow>=8.0.0 in /usr/local/lib/python3.7/dist-packages (from pytesseract) (9.1.1)\n",
            "Requirement already satisfied: pyparsing!=3.0.5,>=2.0.2 in /usr/local/lib/python3.7/dist-packages (from packaging>=21.3->pytesseract) (3.0.9)\n"
          ]
        }
      ]
    },
    {
      "cell_type": "markdown",
      "source": [
        "Mencari path atau directory dari Tesseract.\n",
        "> Copy path untuk pytesseract.pytesseract.tesseract_cmd\n",
        "\n",
        "\n"
      ],
      "metadata": {
        "id": "itih2BXC-kVk"
      }
    },
    {
      "cell_type": "code",
      "source": [
        "!which tesseract"
      ],
      "metadata": {
        "colab": {
          "base_uri": "https://localhost:8080/"
        },
        "id": "kflMKht640is",
        "outputId": "f6f38e09-76bd-4878-88f3-e817fb54d6a4"
      },
      "execution_count": 4,
      "outputs": [
        {
          "output_type": "stream",
          "name": "stdout",
          "text": [
            "/usr/bin/tesseract\n"
          ]
        }
      ]
    },
    {
      "cell_type": "markdown",
      "source": [
        "Import Libraries"
      ],
      "metadata": {
        "id": "TFc4-6LL_QIK"
      }
    },
    {
      "cell_type": "code",
      "execution_count": 5,
      "metadata": {
        "colab": {
          "base_uri": "https://localhost:8080/",
          "height": 286
        },
        "id": "zxbtUm_B4TFO",
        "outputId": "dd3757e0-4aa2-40f0-a84d-c129babcc3a2"
      },
      "outputs": [
        {
          "output_type": "execute_result",
          "data": {
            "text/plain": [
              "<matplotlib.image.AxesImage at 0x7f537e2b5d10>"
            ]
          },
          "metadata": {},
          "execution_count": 5
        },
        {
          "output_type": "display_data",
          "data": {
            "text/plain": [
              "<Figure size 432x288 with 1 Axes>"
            ],
            "image/png": "[encoded data removed]"
          },
          "metadata": {
            "needs_background": "light"
          }
        }
      ],
      "source": [
        "import pytesseract\n",
        "import cv2\n",
        "import matplotlib.pylab as plt\n",
        "\n",
        "pytesseract.pytesseract.tesseract_cmd = r'/usr/bin/tesseract'\n",
        "\n",
        "\n",
        "img = cv2.imread('/2(2).png')\n",
        "img = cv2.cvtColor(img,cv2.COLOR_BGR2RGB)\n",
        "\n",
        "plt.imshow(img)"
      ]
    },
    {
      "cell_type": "markdown",
      "source": [
        "Membaca text dalam image"
      ],
      "metadata": {
        "id": "n2tJoYJ3_Xm0"
      }
    },
    {
      "cell_type": "code",
      "execution_count": 6,
      "metadata": {
        "colab": {
          "base_uri": "https://localhost:8080/"
        },
        "id": "RUqUDpZm4TFS",
        "outputId": "c824643b-5d46-4f08-c921-c8e4ff719f96"
      },
      "outputs": [
        {
          "output_type": "stream",
          "name": "stdout",
          "text": [
            "#BANGKITEXPERIENCE\n",
            "\n",
            " \n",
            "\n",
            "How it began...\n",
            "\n",
            "Selamat Tabitha Hanna!\n",
            "\n",
            "Dicoding Indonesia menerima\n",
            "kamu untuk Bangkit Academy\n",
            "2022 by Google, GoTo, Traveloka -\n",
            "Machine Learning Learning Path.\n",
            "Untuk melihat rincian kegiatan,\n",
            "silakan klik tautan ini. Penawaran\n",
            "ini akan berakhir pada 31 Januari\n",
            "2022 pukul 23:59 WIB. Pastikan\n",
            "kamu sudah menentukan\n",
            "pilihanmu sebelum waktunya\n",
            "habis, ya. Selamat menentu\n",
            "pilihan!\n",
            "\n",
            "‘Salam, Kampus Merdeka\n",
            "\n",
            "Selamat! Kamu diterima di\n",
            "\n",
            "Bangkit Academy 2022 by\n",
            "Google, GoTo, Traveloka -\n",
            "Machine Learning Learning\n",
            "Path!\n",
            "\n",
            "Janu 2022\n",
            "\n",
            " \n",
            "\n",
            "Announcements from\n",
            "Bangkit and Kampus\n",
            "Merdeka\n",
            "\f\n"
          ]
        }
      ],
      "source": [
        "img_to_char = pytesseract.image_to_string(img)\n",
        "print(img_to_char)"
      ]
    },
    {
      "cell_type": "markdown",
      "source": [
        "**Prediction**"
      ],
      "metadata": {
        "id": "eCtNM3Lh5Vct"
      }
    },
    {
      "cell_type": "code",
      "source": [
        "import csv\n",
        "import random\n",
        "import pickle\n",
        "import numpy as np\n",
        "import tensorflow as tf\n",
        "import pandas as pd\n",
        "from tensorflow.keras.preprocessing.text import Tokenizer\n",
        "from tensorflow.keras.preprocessing.sequence import pad_sequences\n",
        "import matplotlib.pyplot as plt\n",
        "from scipy.stats import linregress\n",
        "from tensorflow.keras.preprocessing.text import Tokenizer"
      ],
      "metadata": {
        "id": "GkiSucze5Jks"
      },
      "execution_count": 18,
      "outputs": []
    },
    {
      "cell_type": "code",
      "source": [
        "NUM_WORDS = 1000\n",
        "EMBEDDING_DIM = 100\n",
        "MAXLEN = 16\n",
        "PADDING = 'post'\n",
        "OOV_TOKEN = \"<OOV>\"\n",
        "TRAINING_SPLIT = .8\n",
        "TRUNCATING = 'post'\n",
        "MAX_EXAMPLES = 160000"
      ],
      "metadata": {
        "id": "G-JOJKLz5wMF"
      },
      "execution_count": 19,
      "outputs": []
    },
    {
      "cell_type": "code",
      "source": [
        "def fit_tokenizer(train_sentences, num_words, oov_token):\n",
        "  tokenizer = Tokenizer(num_words=NUM_WORDS, oov_token=OOV_TOKEN)\n",
        "  tokenizer.fit_on_texts(train_sentences)\n",
        "  return tokenizer"
      ],
      "metadata": {
        "id": "pSPSP6Q552lP"
      },
      "execution_count": 20,
      "outputs": []
    },
    {
      "cell_type": "code",
      "source": [
        "def seq_and_pad(sentences, tokenizer, padding, maxlen):\n",
        "  sequences = tokenizer.texts_to_sequences(sentences)\n",
        "  padded_sequences = pad_sequences(sequences, maxlen=MAXLEN, padding=PADDING)\n",
        "  \n",
        "  return padded_sequences"
      ],
      "metadata": {
        "id": "nZuxm2z150c5"
      },
      "execution_count": 21,
      "outputs": []
    },
    {
      "cell_type": "code",
      "source": [
        "text = img_to_char\n",
        "text = text.lower()\n",
        "text1 = text.split()"
      ],
      "metadata": {
        "id": "YT7vRlMa6I3b"
      },
      "execution_count": 25,
      "outputs": []
    },
    {
      "cell_type": "code",
      "source": [
        "tokenizer = fit_tokenizer(text, NUM_WORDS, OOV_TOKEN)\n",
        "word_index = tokenizer.word_index\n",
        "\n",
        "print(f\"Vocabulary contains {len(word_index)} words\\n\")\n",
        "print(\"<OOV> token included in vocabulary\" if \"<OOV>\" in word_index else \"<OOV> token NOT included in vocabulary\")"
      ],
      "metadata": {
        "colab": {
          "base_uri": "https://localhost:8080/"
        },
        "id": "xHsoTPhO7xc4",
        "outputId": "a9affc15-65b1-402e-c733-6cb3708140b8"
      },
      "execution_count": 26,
      "outputs": [
        {
          "output_type": "stream",
          "name": "stdout",
          "text": [
            "Vocabulary contains 33 words\n",
            "\n",
            "<OOV> token included in vocabulary\n"
          ]
        }
      ]
    },
    {
      "cell_type": "code",
      "source": [
        "new_model = tf.keras.models.load_model(\"/model.h5\")\n",
        "new_model.summary()"
      ],
      "metadata": {
        "colab": {
          "base_uri": "https://localhost:8080/"
        },
        "id": "GQRp8Ba_8Hla",
        "outputId": "88363b20-16c5-4761-f79e-8f60db1df542"
      },
      "execution_count": 32,
      "outputs": [
        {
          "output_type": "stream",
          "name": "stdout",
          "text": [
            "Model: \"sequential\"\n",
            "_________________________________________________________________\n",
            " Layer (type)                Output Shape              Param #   \n",
            "=================================================================\n",
            " embedding (Embedding)       (None, 16, 100)           1000000   \n",
            "                                                                 \n",
            " global_average_pooling1d (G  (None, 100)              0         \n",
            " lobalAveragePooling1D)                                          \n",
            "                                                                 \n",
            " dense (Dense)               (None, 1)                 101       \n",
            "                                                                 \n",
            " dense_1 (Dense)             (None, 24)                48        \n",
            "                                                                 \n",
            "=================================================================\n",
            "Total params: 1,000,149\n",
            "Trainable params: 1,000,149\n",
            "Non-trainable params: 0\n",
            "_________________________________________________________________\n"
          ]
        }
      ]
    },
    {
      "cell_type": "code",
      "source": [
        "for x in range(len(text1)) :\n",
        "  word_token = seq_and_pad(text1[x], tokenizer, PADDING, MAXLEN)\n",
        "  predict = new_model.predict(word_token)"
      ],
      "metadata": {
        "id": "50qwhwPB7y2t"
      },
      "execution_count": 34,
      "outputs": []
    },
    {
      "cell_type": "code",
      "source": [
        "print(predict)"
      ],
      "metadata": {
        "colab": {
          "base_uri": "https://localhost:8080/"
        },
        "id": "D6YUSLOl9e31",
        "outputId": "185a3cbb-9c98-4223-a4ee-da5d9e64ff67"
      },
      "execution_count": 35,
      "outputs": [
        {
          "output_type": "stream",
          "name": "stdout",
          "text": [
            "[[0.5189266  0.1448782  0.0117396  0.01359014 0.01634258 0.01424202\n",
            "  0.0168163  0.01855919 0.01222501 0.01915676 0.01869625 0.01693207\n",
            "  0.01296028 0.0163317  0.02515021 0.01640147 0.01201593 0.01310757\n",
            "  0.0148938  0.0121894  0.01343831 0.01336242 0.01497083 0.01307331]\n",
            " [0.5189292  0.14487822 0.01173948 0.01359002 0.01634247 0.01424191\n",
            "  0.01681619 0.01855908 0.0122249  0.01915665 0.01869614 0.01693196\n",
            "  0.01296016 0.01633158 0.02515012 0.01640136 0.01201582 0.01310746\n",
            "  0.01489368 0.01218929 0.01343819 0.01336231 0.01497071 0.01307319]\n",
            " [0.5189324  0.14487825 0.01173933 0.01358987 0.01634232 0.01424175\n",
            "  0.01681604 0.01855893 0.01222474 0.0191565  0.01869599 0.0169318\n",
            "  0.01296001 0.01633143 0.02514999 0.0164012  0.01201566 0.0131073\n",
            "  0.01489353 0.01218913 0.01343804 0.01336215 0.01497056 0.01307304]\n",
            " [0.518923   0.14487813 0.01173977 0.01359031 0.01634276 0.0142422\n",
            "  0.01681648 0.01855936 0.01222518 0.01915693 0.01869642 0.01693224\n",
            "  0.01296045 0.01633187 0.02515034 0.01640165 0.0120161  0.01310775\n",
            "  0.01489397 0.01218957 0.01343848 0.0133626  0.014971   0.01307348]\n",
            " [0.5189292  0.14487822 0.01173948 0.01359002 0.01634247 0.01424191\n",
            "  0.01681619 0.01855908 0.0122249  0.01915665 0.01869614 0.01693196\n",
            "  0.01296016 0.01633158 0.02515012 0.01640136 0.01201582 0.01310746\n",
            "  0.01489368 0.01218929 0.01343819 0.01336231 0.01497071 0.01307319]\n",
            " [0.5189319  0.14487825 0.01173936 0.0135899  0.01634235 0.01424178\n",
            "  0.01681607 0.01855896 0.01222477 0.01915653 0.01869602 0.01693183\n",
            "  0.01296004 0.01633146 0.02515002 0.01640124 0.01201569 0.01310733\n",
            "  0.01489356 0.01218916 0.01343807 0.01336218 0.01497059 0.01307307]\n",
            " [0.5189275  0.14487818 0.01173956 0.0135901  0.01634254 0.01424198\n",
            "  0.01681627 0.01855915 0.01222497 0.01915672 0.01869621 0.01693203\n",
            "  0.01296023 0.01633166 0.02515017 0.01640144 0.01201589 0.01310753\n",
            "  0.01489375 0.01218936 0.01343827 0.01336238 0.01497079 0.01307327]]\n"
          ]
        }
      ]
    }
  ],
  "metadata": {
    "interpreter": {
      "hash": "298c87bb46c0ece7abcceec7d9fcd87435e079314f0dee0953f90f5b1b40d0e0"
    },
    "kernelspec": {
      "display_name": "Python 3.8.0 32-bit",
      "language": "python",
      "name": "python3"
    },
    "language_info": {
      "codemirror_mode": {
        "name": "ipython",
        "version": 3
      },
      "file_extension": ".py",
      "mimetype": "text/x-python",
      "name": "python",
      "nbconvert_exporter": "python",
      "pygments_lexer": "ipython3",
      "version": "3.8.0"
    },
    "orig_nbformat": 4,
    "colab": {
      "name": "integrate_with_model.ipynb",
      "provenance": []
    }
  },
  "nbformat": 4,
  "nbformat_minor": 0
}